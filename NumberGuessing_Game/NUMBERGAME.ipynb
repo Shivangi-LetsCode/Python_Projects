{
 "cells": [
  {
   "cell_type": "code",
   "execution_count": null,
   "metadata": {},
   "outputs": [],
   "source": [
    "DEVELOPING A NUMBER GUESSING GAME, PLAYER HAS THREE CHANCES, GUESS THE NUMBERS BETWEEN 1 TO 5,\n",
    "IF GUESSED NUMBER IS CORRECT \"USER WON THE GAME\"\n",
    "OTHERWISE \"USER LOST\"\n",
    "\n",
    "\"LET'S BEGIN THE JOURNEY\"\n",
    "\"NOTE: There are three methods defined to create the same game\"\n",
    "\"ENJOY PYTHON...!\""
   ]
  },
  {
   "cell_type": "code",
   "execution_count": 1,
   "metadata": {},
   "outputs": [
    {
     "name": "stdout",
     "output_type": "stream",
     "text": [
      "GUESS A NUMBER BETWEEN 1 TO 5: \n",
      "3\n",
      "===========================================\n",
      "CONGRATULATIONS, YOU WON\n",
      "===========================================\n"
     ]
    }
   ],
   "source": [
    "# PROJECT - NUMBER GUESIING GAME - METHOD 1\n",
    "import random                                             # importing random module\n",
    "\n",
    "num=random.randint(1,5)                                   # Generating Random Numbers Betweem 1 to 5(1 and 5 included)\n",
    "flag=False                                                \n",
    "attempts=0                                                \n",
    "\n",
    "while attempts<3:                                         # Loop will run 3 times \n",
    "    print(\"GUESS A NUMBER BETWEEN 1 TO 5: \")\n",
    "    guessno=int(input())\n",
    "    attempts+=1\n",
    "    if guessno==num:                                      # Comparing actual number with guessed number\n",
    "        flag=True\n",
    "        break\n",
    "        \n",
    "if flag:\n",
    "    print(\"===========================================\")\n",
    "    print(\"CONGRATULATIONS, YOU WON\")\n",
    "    print(\"===========================================\")\n",
    "    input()\n",
    "\n",
    "else:\n",
    "    print(\"YOU LOST\") \n",
    "input(\"PRESS ENTER TO EXIT\")"
   ]
  },
  {
   "cell_type": "code",
   "execution_count": 1,
   "metadata": {},
   "outputs": [
    {
     "name": "stdout",
     "output_type": "stream",
     "text": [
      "Guess a Number between 1 & 5\n",
      "2\n",
      "Guess a Number between 1 & 5\n",
      "1\n",
      "Guess a Number between 1 & 5\n",
      "4\n",
      "Try your luck next time...!\n"
     ]
    }
   ],
   "source": [
    "# PYHTON GAME- GUESSING THE NUMBER GAME- METHOD 2  \n",
    "import random\n",
    "\n",
    "num=random.randint(1,5)\n",
    "attempts=0\n",
    "\n",
    "while attempts<3:\n",
    "    print(\"Guess a Number between 1 & 5\")\n",
    "    guessno=int(input())\n",
    "    attempts+=1\n",
    "    if guessno==num:\n",
    "        print(\"=======================================\")\n",
    "        print(\"Congratulations...!Your guessed correct\")\n",
    "        print(\"=======================================\")\n",
    "        break\n",
    "else:\n",
    "    print(\"Try your luck next time...!\")\n",
    "input(\"PRESS ENTER TO EXIT\")"
   ]
  },
  {
   "cell_type": "code",
   "execution_count": 3,
   "metadata": {},
   "outputs": [
    {
     "name": "stdout",
     "output_type": "stream",
     "text": [
      "Please guess a number between 1 To 5:- 2\n",
      "Please guess a number between 1 To 5:- 3\n",
      "*********************************************\n",
      "                Congrutulation.....!!!!! You Won\n",
      "        ******************************************************\n"
     ]
    }
   ],
   "source": [
    "# PYHTON GAME- GUESSING THE NUMBER GAME- METHOD 3\n",
    "import random\n",
    "flag = 0 #(0 is for \"False\")\n",
    "RandomNumber = random.randint(1,5)\n",
    "for attempts in range(3):\n",
    "    NumberGuess = int(input(\"Please guess a number between 1 To 5:- \"))\n",
    "    if NumberGuess == RandomNumber:\n",
    "        flag = 1\n",
    "        break\n",
    "   \n",
    "if flag:\n",
    "    print(\"\"\"*********************************************\n",
    "                Congrutulation.....!!!!! You Won\n",
    "        ******************************************************\"\"\")\n",
    "else:\n",
    "    print(\"\"\"******************\n",
    "    Sorry.....!!! You Loss\n",
    "    ******************\"\"\")    \n",
    "input(\"PRESS ENTER TO EXIT\")"
   ]
  },
  {
   "cell_type": "code",
   "execution_count": null,
   "metadata": {},
   "outputs": [],
   "source": []
  }
 ],
 "metadata": {
  "kernelspec": {
   "display_name": "Python 3",
   "language": "python",
   "name": "python3"
  },
  "language_info": {
   "codemirror_mode": {
    "name": "ipython",
    "version": 3
   },
   "file_extension": ".py",
   "mimetype": "text/x-python",
   "name": "python",
   "nbconvert_exporter": "python",
   "pygments_lexer": "ipython3",
   "version": "3.8.3"
  }
 },
 "nbformat": 4,
 "nbformat_minor": 4
}
